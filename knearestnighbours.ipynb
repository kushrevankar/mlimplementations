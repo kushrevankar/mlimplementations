{
  "cells": [
    {
      "cell_type": "code",
      "execution_count": 3,
      "metadata": {
        "id": "KMpTgy75H_K8"
      },
      "outputs": [],
      "source": [
        "# importing libraries\n",
        "\n",
        "import pandas as pd\n",
        "from sklearn.model_selection import StratifiedKFold\n",
        "from sklearn.neighbors import KNeighborsClassifier\n",
        "from sklearn.metrics import accuracy_score, classification_report"
      ]
    },
    {
      "cell_type": "code",
      "execution_count": 4,
      "metadata": {
        "id": "8CBV3E-pM-38"
      },
      "outputs": [],
      "source": [
        "df = pd.read_csv(r'D:\\Work\\Programs\\MachineLearning\\resampled_data.csv')"
      ]
    },
    {
      "cell_type": "code",
      "execution_count": 5,
      "metadata": {
        "id": "qX2hgJEANFNU"
      },
      "outputs": [],
      "source": [
        "# setting the features and the target variables\n",
        "\n",
        "X = df[[\"age\", \"sex\", \"nationality\"]]\n",
        "y = df[\"current_status\"]"
      ]
    },
    {
      "cell_type": "code",
      "execution_count": 7,
      "metadata": {
        "id": "4gP7hHekOw6t"
      },
      "outputs": [],
      "source": [
        "# splitting the model in stratified k fold sets\n",
        "\n",
        "skf = StratifiedKFold(n_splits = 10)"
      ]
    },
    {
      "cell_type": "code",
      "execution_count": 8,
      "metadata": {
        "id": "OBkqkQ7AO5do"
      },
      "outputs": [
        {
          "name": "stdout",
          "output_type": "stream",
          "text": [
            "Fold 1 Accuracy: 0.72\n",
            "Fold 2 Accuracy: 0.92\n",
            "Fold 3 Accuracy: 0.93\n",
            "Fold 4 Accuracy: 0.92\n",
            "Fold 5 Accuracy: 0.92\n",
            "Fold 6 Accuracy: 0.91\n",
            "Fold 7 Accuracy: 0.90\n",
            "Fold 8 Accuracy: 0.89\n",
            "Fold 9 Accuracy: 0.90\n",
            "Fold 10 Accuracy: 0.90\n"
          ]
        }
      ],
      "source": [
        "# initialising and fitting the data on the KNN model\n",
        "\n",
        "knn = KNeighborsClassifier(n_neighbors = 3)\n",
        "\n",
        "for fold, (train_index, test_index) in enumerate(skf.split(X, y)):\n",
        "    X_train, X_test = X.iloc[train_index], X.iloc[test_index]\n",
        "    y_train, y_test = y.iloc[train_index], y.iloc[test_index]\n",
        "\n",
        "    knn.fit(X_train, y_train)\n",
        "    y_pred = knn.predict(X_test)\n",
        "\n",
        "    accuracy = accuracy_score(y_test, y_pred)\n",
        "    print(f\"Fold {fold + 1} Accuracy: {accuracy:.2f}\")"
      ]
    },
    {
      "cell_type": "code",
      "execution_count": 10,
      "metadata": {
        "colab": {
          "base_uri": "https://localhost:8080/"
        },
        "id": "NprNngDPQNbP",
        "outputId": "bdca7127-6708-4830-abad-a91bf9a729a9"
      },
      "outputs": [
        {
          "name": "stdout",
          "output_type": "stream",
          "text": [
            "Classification report: \n",
            "               precision    recall  f1-score   support\n",
            "\n",
            "           0       0.85      0.96      0.90       579\n",
            "           1       0.96      0.83      0.89       580\n",
            "\n",
            "    accuracy                           0.90      1159\n",
            "   macro avg       0.90      0.90      0.90      1159\n",
            "weighted avg       0.90      0.90      0.90      1159\n",
            "\n"
          ]
        }
      ],
      "source": [
        "# classification report (accuracy, precision, recall, f1_score)\n",
        "\n",
        "classificationreport = classification_report(y_test, y_pred)\n",
        "\n",
        "print(\"Classification report: \\n\", classificationreport)"
      ]
    }
  ],
  "metadata": {
    "colab": {
      "provenance": []
    },
    "kernelspec": {
      "display_name": "Python 3 (ipykernel)",
      "language": "python",
      "name": "python3"
    }
  },
  "nbformat": 4,
  "nbformat_minor": 0
}
