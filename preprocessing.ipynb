{
  "cells": [
    {
      "cell_type": "code",
      "execution_count": 29,
      "metadata": {
        "id": "1-iT6C0q_9ae"
      },
      "outputs": [],
      "source": [
        "# importing libraries\n",
        "\n",
        "import pandas as pd\n",
        "import numpy as np\n",
        "import matplotlib.pyplot as plt\n",
        "import seaborn as sns\n",
        "from imblearn.over_sampling import SMOTE\n",
        "from sklearn.preprocessing import LabelEncoder, StandardScaler\n",
        "from scipy import stats\n",
        "from collections import Counter"
      ]
    },
    {
      "cell_type": "code",
      "execution_count": 3,
      "metadata": {
        "colab": {
          "base_uri": "https://localhost:8080/",
          "height": 73
        },
        "id": "tipFXVAuBxo-",
        "outputId": "0edf44b9-29d4-4244-81b0-ccb1daa3faf6"
      },
      "outputs": [
        {
          "name": "stderr",
          "output_type": "stream",
          "text": [
            "<>:3: SyntaxWarning: invalid escape sequence '\\W'\n",
            "<>:3: SyntaxWarning: invalid escape sequence '\\W'\n",
            "C:\\Users\\Kush\\AppData\\Local\\Temp\\ipykernel_14812\\3522016460.py:3: SyntaxWarning: invalid escape sequence '\\W'\n",
            "  df = pd.read_csv('D:\\Work\\Programs\\MachineLearning\\casedetails.csv')\n"
          ]
        }
      ],
      "source": [
        "# importing the .csv file\n",
        "\n",
        "df = pd.read_csv('D:\\Work\\Programs\\MachineLearning\\casedetails.csv')"
      ]
    },
    {
      "cell_type": "code",
      "execution_count": 4,
      "metadata": {
        "colab": {
          "base_uri": "https://localhost:8080/"
        },
        "id": "X08ErT4lCXDF",
        "outputId": "28548c8c-2c4a-43e9-cdc3-a9e4861a673e"
      },
      "outputs": [
        {
          "name": "stdout",
          "output_type": "stream",
          "text": [
            "<class 'pandas.core.frame.DataFrame'>\n",
            "RangeIndex: 5902 entries, 0 to 5901\n",
            "Data columns (total 11 columns):\n",
            " #   Column            Non-Null Count  Dtype  \n",
            "---  ------            --------------  -----  \n",
            " 0   source            5902 non-null   object \n",
            " 1   case_id           5902 non-null   int64  \n",
            " 2   case_name         1000 non-null   object \n",
            " 3   age               5438 non-null   float64\n",
            " 4   sex               5825 non-null   object \n",
            " 5   nationality       4605 non-null   object \n",
            " 6   current_status    5902 non-null   object \n",
            " 7   symptomatic_date  240 non-null    object \n",
            " 8   confirmed_date    4602 non-null   object \n",
            " 9   recovered_date    1573 non-null   object \n",
            " 10  place_id          5902 non-null   int64  \n",
            "dtypes: float64(1), int64(2), object(8)\n",
            "memory usage: 507.3+ KB\n"
          ]
        }
      ],
      "source": [
        "# brief information\n",
        "\n",
        "df.info()"
      ]
    },
    {
      "cell_type": "code",
      "execution_count": 5,
      "metadata": {
        "colab": {
          "base_uri": "https://localhost:8080/",
          "height": 206
        },
        "id": "ljIyh1piD31Q",
        "outputId": "1aa18c01-9e50-4245-cb74-105634419afe"
      },
      "outputs": [
        {
          "data": {
            "text/html": [
              "<div>\n",
              "<style scoped>\n",
              "    .dataframe tbody tr th:only-of-type {\n",
              "        vertical-align: middle;\n",
              "    }\n",
              "\n",
              "    .dataframe tbody tr th {\n",
              "        vertical-align: top;\n",
              "    }\n",
              "\n",
              "    .dataframe thead th {\n",
              "        text-align: right;\n",
              "    }\n",
              "</style>\n",
              "<table border=\"1\" class=\"dataframe\">\n",
              "  <thead>\n",
              "    <tr style=\"text-align: right;\">\n",
              "      <th></th>\n",
              "      <th>source</th>\n",
              "      <th>case_id</th>\n",
              "      <th>case_name</th>\n",
              "      <th>age</th>\n",
              "      <th>sex</th>\n",
              "      <th>nationality</th>\n",
              "      <th>current_status</th>\n",
              "      <th>symptomatic_date</th>\n",
              "      <th>confirmed_date</th>\n",
              "      <th>recovered_date</th>\n",
              "      <th>place_id</th>\n",
              "    </tr>\n",
              "  </thead>\n",
              "  <tbody>\n",
              "    <tr>\n",
              "      <th>0</th>\n",
              "      <td>https://coronavirus-ph-api.now.sh/cases</td>\n",
              "      <td>1</td>\n",
              "      <td>NaN</td>\n",
              "      <td>38.0</td>\n",
              "      <td>F</td>\n",
              "      <td>Chinese</td>\n",
              "      <td>Recovered</td>\n",
              "      <td>NaN</td>\n",
              "      <td>2020-01-30 00:00:00</td>\n",
              "      <td>NaN</td>\n",
              "      <td>48</td>\n",
              "    </tr>\n",
              "    <tr>\n",
              "      <th>1</th>\n",
              "      <td>https://coronavirus-ph-api.now.sh/cases</td>\n",
              "      <td>2</td>\n",
              "      <td>NaN</td>\n",
              "      <td>44.0</td>\n",
              "      <td>M</td>\n",
              "      <td>Chinese</td>\n",
              "      <td>Died</td>\n",
              "      <td>NaN</td>\n",
              "      <td>2020-02-02 00:00:00</td>\n",
              "      <td>NaN</td>\n",
              "      <td>48</td>\n",
              "    </tr>\n",
              "    <tr>\n",
              "      <th>2</th>\n",
              "      <td>https://coronavirus-ph-api.now.sh/cases</td>\n",
              "      <td>3</td>\n",
              "      <td>NaN</td>\n",
              "      <td>60.0</td>\n",
              "      <td>F</td>\n",
              "      <td>Chinese</td>\n",
              "      <td>Recovered</td>\n",
              "      <td>NaN</td>\n",
              "      <td>2020-02-05 00:00:00</td>\n",
              "      <td>NaN</td>\n",
              "      <td>48</td>\n",
              "    </tr>\n",
              "    <tr>\n",
              "      <th>3</th>\n",
              "      <td>https://coronavirus-ph-api.now.sh/cases</td>\n",
              "      <td>4</td>\n",
              "      <td>NaN</td>\n",
              "      <td>48.0</td>\n",
              "      <td>M</td>\n",
              "      <td>Filipino</td>\n",
              "      <td>Recovered</td>\n",
              "      <td>NaN</td>\n",
              "      <td>2020-03-05 00:00:00</td>\n",
              "      <td>NaN</td>\n",
              "      <td>48</td>\n",
              "    </tr>\n",
              "    <tr>\n",
              "      <th>4</th>\n",
              "      <td>https://coronavirus-ph-api.now.sh/cases</td>\n",
              "      <td>5</td>\n",
              "      <td>NaN</td>\n",
              "      <td>62.0</td>\n",
              "      <td>M</td>\n",
              "      <td>Filipino</td>\n",
              "      <td>Died</td>\n",
              "      <td>NaN</td>\n",
              "      <td>2020-03-05 00:00:00</td>\n",
              "      <td>NaN</td>\n",
              "      <td>48</td>\n",
              "    </tr>\n",
              "  </tbody>\n",
              "</table>\n",
              "</div>"
            ],
            "text/plain": [
              "                                    source  case_id case_name   age sex  \\\n",
              "0  https://coronavirus-ph-api.now.sh/cases        1       NaN  38.0   F   \n",
              "1  https://coronavirus-ph-api.now.sh/cases        2       NaN  44.0   M   \n",
              "2  https://coronavirus-ph-api.now.sh/cases        3       NaN  60.0   F   \n",
              "3  https://coronavirus-ph-api.now.sh/cases        4       NaN  48.0   M   \n",
              "4  https://coronavirus-ph-api.now.sh/cases        5       NaN  62.0   M   \n",
              "\n",
              "  nationality current_status symptomatic_date       confirmed_date  \\\n",
              "0     Chinese      Recovered              NaN  2020-01-30 00:00:00   \n",
              "1     Chinese           Died              NaN  2020-02-02 00:00:00   \n",
              "2     Chinese      Recovered              NaN  2020-02-05 00:00:00   \n",
              "3    Filipino      Recovered              NaN  2020-03-05 00:00:00   \n",
              "4    Filipino           Died              NaN  2020-03-05 00:00:00   \n",
              "\n",
              "  recovered_date  place_id  \n",
              "0            NaN        48  \n",
              "1            NaN        48  \n",
              "2            NaN        48  \n",
              "3            NaN        48  \n",
              "4            NaN        48  "
            ]
          },
          "execution_count": 5,
          "metadata": {},
          "output_type": "execute_result"
        }
      ],
      "source": [
        "# first 5 records\n",
        "\n",
        "df.head()"
      ]
    },
    {
      "cell_type": "code",
      "execution_count": 6,
      "metadata": {
        "colab": {
          "base_uri": "https://localhost:8080/",
          "height": 206
        },
        "id": "aqk3OIFwHoto",
        "outputId": "5b98fe3d-90ff-43d7-ad76-61615320899d"
      },
      "outputs": [
        {
          "data": {
            "text/html": [
              "<div>\n",
              "<style scoped>\n",
              "    .dataframe tbody tr th:only-of-type {\n",
              "        vertical-align: middle;\n",
              "    }\n",
              "\n",
              "    .dataframe tbody tr th {\n",
              "        vertical-align: top;\n",
              "    }\n",
              "\n",
              "    .dataframe thead th {\n",
              "        text-align: right;\n",
              "    }\n",
              "</style>\n",
              "<table border=\"1\" class=\"dataframe\">\n",
              "  <thead>\n",
              "    <tr style=\"text-align: right;\">\n",
              "      <th></th>\n",
              "      <th>source</th>\n",
              "      <th>case_id</th>\n",
              "      <th>case_name</th>\n",
              "      <th>age</th>\n",
              "      <th>sex</th>\n",
              "      <th>nationality</th>\n",
              "      <th>current_status</th>\n",
              "      <th>symptomatic_date</th>\n",
              "      <th>confirmed_date</th>\n",
              "      <th>recovered_date</th>\n",
              "      <th>place_id</th>\n",
              "    </tr>\n",
              "  </thead>\n",
              "  <tbody>\n",
              "    <tr>\n",
              "      <th>5897</th>\n",
              "      <td>https://www.wuhanvirus.sg/cases/search</td>\n",
              "      <td>996</td>\n",
              "      <td>21 Year Old Female Singaporean</td>\n",
              "      <td>21.0</td>\n",
              "      <td>F</td>\n",
              "      <td>Singaporean</td>\n",
              "      <td>In hospital</td>\n",
              "      <td>NaN</td>\n",
              "      <td>2020-04-01 00:00:00</td>\n",
              "      <td>NaN</td>\n",
              "      <td>29</td>\n",
              "    </tr>\n",
              "    <tr>\n",
              "      <th>5898</th>\n",
              "      <td>https://www.wuhanvirus.sg/cases/search</td>\n",
              "      <td>997</td>\n",
              "      <td>50 Year Old Male Indian</td>\n",
              "      <td>50.0</td>\n",
              "      <td>M</td>\n",
              "      <td>Indian</td>\n",
              "      <td>In hospital</td>\n",
              "      <td>NaN</td>\n",
              "      <td>2020-04-01 00:00:00</td>\n",
              "      <td>NaN</td>\n",
              "      <td>29</td>\n",
              "    </tr>\n",
              "    <tr>\n",
              "      <th>5899</th>\n",
              "      <td>https://www.wuhanvirus.sg/cases/search</td>\n",
              "      <td>998</td>\n",
              "      <td>31 Year Old Female British</td>\n",
              "      <td>31.0</td>\n",
              "      <td>F</td>\n",
              "      <td>British</td>\n",
              "      <td>In hospital</td>\n",
              "      <td>NaN</td>\n",
              "      <td>2020-04-01 00:00:00</td>\n",
              "      <td>NaN</td>\n",
              "      <td>29</td>\n",
              "    </tr>\n",
              "    <tr>\n",
              "      <th>5900</th>\n",
              "      <td>https://www.wuhanvirus.sg/cases/search</td>\n",
              "      <td>999</td>\n",
              "      <td>21 Year Old Male Singaporean</td>\n",
              "      <td>21.0</td>\n",
              "      <td>M</td>\n",
              "      <td>Singaporean</td>\n",
              "      <td>In hospital</td>\n",
              "      <td>NaN</td>\n",
              "      <td>2020-04-01 00:00:00</td>\n",
              "      <td>NaN</td>\n",
              "      <td>29</td>\n",
              "    </tr>\n",
              "    <tr>\n",
              "      <th>5901</th>\n",
              "      <td>https://www.wuhanvirus.sg/cases/search</td>\n",
              "      <td>1000</td>\n",
              "      <td>54 Year Old Male Singaporean</td>\n",
              "      <td>54.0</td>\n",
              "      <td>M</td>\n",
              "      <td>Singaporean</td>\n",
              "      <td>In hospital</td>\n",
              "      <td>NaN</td>\n",
              "      <td>2020-04-01 00:00:00</td>\n",
              "      <td>NaN</td>\n",
              "      <td>29</td>\n",
              "    </tr>\n",
              "  </tbody>\n",
              "</table>\n",
              "</div>"
            ],
            "text/plain": [
              "                                      source  case_id  \\\n",
              "5897  https://www.wuhanvirus.sg/cases/search      996   \n",
              "5898  https://www.wuhanvirus.sg/cases/search      997   \n",
              "5899  https://www.wuhanvirus.sg/cases/search      998   \n",
              "5900  https://www.wuhanvirus.sg/cases/search      999   \n",
              "5901  https://www.wuhanvirus.sg/cases/search     1000   \n",
              "\n",
              "                           case_name   age sex  nationality current_status  \\\n",
              "5897  21 Year Old Female Singaporean  21.0   F  Singaporean    In hospital   \n",
              "5898         50 Year Old Male Indian  50.0   M       Indian    In hospital   \n",
              "5899      31 Year Old Female British  31.0   F      British    In hospital   \n",
              "5900    21 Year Old Male Singaporean  21.0   M  Singaporean    In hospital   \n",
              "5901    54 Year Old Male Singaporean  54.0   M  Singaporean    In hospital   \n",
              "\n",
              "     symptomatic_date       confirmed_date recovered_date  place_id  \n",
              "5897              NaN  2020-04-01 00:00:00            NaN        29  \n",
              "5898              NaN  2020-04-01 00:00:00            NaN        29  \n",
              "5899              NaN  2020-04-01 00:00:00            NaN        29  \n",
              "5900              NaN  2020-04-01 00:00:00            NaN        29  \n",
              "5901              NaN  2020-04-01 00:00:00            NaN        29  "
            ]
          },
          "execution_count": 6,
          "metadata": {},
          "output_type": "execute_result"
        }
      ],
      "source": [
        "# last 5 records\n",
        "\n",
        "df.tail()"
      ]
    },
    {
      "cell_type": "code",
      "execution_count": 7,
      "metadata": {
        "colab": {
          "base_uri": "https://localhost:8080/"
        },
        "id": "4EAl-L34JpCc",
        "outputId": "cdb538e5-43b5-492d-d054-fab8743ae73e"
      },
      "outputs": [
        {
          "data": {
            "text/plain": [
              "np.int64(0)"
            ]
          },
          "execution_count": 7,
          "metadata": {},
          "output_type": "execute_result"
        }
      ],
      "source": [
        "# number of duplicated records\n",
        "\n",
        "df.duplicated().sum()"
      ]
    },
    {
      "cell_type": "code",
      "execution_count": 8,
      "metadata": {
        "colab": {
          "base_uri": "https://localhost:8080/",
          "height": 429
        },
        "id": "zYB-G8MLDrSx",
        "outputId": "2e9235f0-14a5-4a3a-f7a2-dab8995944e4"
      },
      "outputs": [
        {
          "data": {
            "text/plain": [
              "source                 0\n",
              "case_id                0\n",
              "case_name           4902\n",
              "age                  464\n",
              "sex                   77\n",
              "nationality         1297\n",
              "current_status         0\n",
              "symptomatic_date    5662\n",
              "confirmed_date      1300\n",
              "recovered_date      4329\n",
              "place_id               0\n",
              "dtype: int64"
            ]
          },
          "execution_count": 8,
          "metadata": {},
          "output_type": "execute_result"
        }
      ],
      "source": [
        "# number of null records\n",
        "\n",
        "nullrecords = df.isnull().sum()\n",
        "nullrecords"
      ]
    },
    {
      "cell_type": "code",
      "execution_count": 9,
      "metadata": {
        "id": "SPMrpp4S3iW1"
      },
      "outputs": [],
      "source": [
        "# dropping confirmed_date, recovered_date, symptomatic_date and case_name columns since they are mostly empty and even if not,\n",
        "# they have rubbish values which serve no significance for further processes\n",
        "\n",
        "df.drop(['symptomatic_date', 'recovered_date', 'confirmed_date', 'case_name', 'source', 'case_id', 'place_id'], axis = 1, inplace = True)"
      ]
    },
    {
      "cell_type": "code",
      "execution_count": 10,
      "metadata": {
        "colab": {
          "base_uri": "https://localhost:8080/",
          "height": 210
        },
        "id": "N-QA6VdJ4xh7",
        "outputId": "9a8e7a1f-622e-4dae-c160-afb2ab9852e1"
      },
      "outputs": [
        {
          "data": {
            "text/plain": [
              "age                464\n",
              "sex                 77\n",
              "nationality       1297\n",
              "current_status       0\n",
              "dtype: int64"
            ]
          },
          "execution_count": 10,
          "metadata": {},
          "output_type": "execute_result"
        }
      ],
      "source": [
        "df.isnull().sum()"
      ]
    },
    {
      "cell_type": "code",
      "execution_count": 11,
      "metadata": {
        "colab": {
          "base_uri": "https://localhost:8080/",
          "height": 621
        },
        "id": "NtaJZnM49DQP",
        "outputId": "55a7a293-642e-4568-88c5-ab8058ab16e3"
      },
      "outputs": [
        {
          "data": {
            "image/png": "[encoded data removed]",
            "text/plain": [
              "<Figure size 640x480 with 1 Axes>"
            ]
          },
          "metadata": {},
          "output_type": "display_data"
        }
      ],
      "source": [
        "# graphical eda on 'nationality'\n",
        "\n",
        "df['nationality'].value_counts().plot(kind='bar', title='nationality')\n",
        "plt.gca().spines[['top', 'right']].set_visible(False)\n",
        "plt.show()"
      ]
    },
    {
      "cell_type": "code",
      "execution_count": 12,
      "metadata": {
        "colab": {
          "base_uri": "https://localhost:8080/"
        },
        "id": "pqV-xX8V8i56",
        "outputId": "6bc9abec-02f9-4f27-b82b-35cbfc306ed4"
      },
      "outputs": [
        {
          "name": "stderr",
          "output_type": "stream",
          "text": [
            "C:\\Users\\Kush\\AppData\\Local\\Temp\\ipykernel_14812\\3345280136.py:3: FutureWarning: A value is trying to be set on a copy of a DataFrame or Series through chained assignment using an inplace method.\n",
            "The behavior will change in pandas 3.0. This inplace method will never work because the intermediate object on which we are setting values always behaves as a copy.\n",
            "\n",
            "For example, when doing 'df[col].method(value, inplace=True)', try using 'df.method({col: value}, inplace=True)' or df[col] = df[col].method(value) instead, to perform the operation inplace on the original object.\n",
            "\n",
            "\n",
            "  df['nationality'].fillna('Korean', inplace = True)\n"
          ]
        }
      ],
      "source": [
        "# fill in the missing values with 'Korean' as it has most number if records\n",
        "\n",
        "df['nationality'].fillna('Korean', inplace = True)"
      ]
    },
    {
      "cell_type": "code",
      "execution_count": 13,
      "metadata": {
        "colab": {
          "base_uri": "https://localhost:8080/",
          "height": 430
        },
        "id": "3XP0q3MROoQv",
        "outputId": "907e7424-a06d-4f41-df06-62a4d72d22d6"
      },
      "outputs": [
        {
          "data": {
            "image/png": "[encoded data removed]",
            "text/plain": [
              "<Figure size 640x480 with 1 Axes>"
            ]
          },
          "metadata": {},
          "output_type": "display_data"
        }
      ],
      "source": [
        "# graphical eda for 'sex'\n",
        "\n",
        "df.groupby('sex').size().plot(kind='barh', color=sns.palettes.mpl_palette('Dark2'))\n",
        "plt.gca().spines[['top', 'right',]].set_visible(False)"
      ]
    },
    {
      "cell_type": "code",
      "execution_count": 14,
      "metadata": {
        "colab": {
          "base_uri": "https://localhost:8080/"
        },
        "id": "c6HlJYUP9fy9",
        "outputId": "5a894126-00c2-4c91-a624-01a94ae659c6"
      },
      "outputs": [
        {
          "name": "stderr",
          "output_type": "stream",
          "text": [
            "C:\\Users\\Kush\\AppData\\Local\\Temp\\ipykernel_14812\\3579051194.py:3: FutureWarning: A value is trying to be set on a copy of a DataFrame or Series through chained assignment using an inplace method.\n",
            "The behavior will change in pandas 3.0. This inplace method will never work because the intermediate object on which we are setting values always behaves as a copy.\n",
            "\n",
            "For example, when doing 'df[col].method(value, inplace=True)', try using 'df.method({col: value}, inplace=True)' or df[col] = df[col].method(value) instead, to perform the operation inplace on the original object.\n",
            "\n",
            "\n",
            "  df['sex'].fillna('F', inplace = True)\n"
          ]
        }
      ],
      "source": [
        "# filling in missing values with 'F'\n",
        "\n",
        "df['sex'].fillna('F', inplace = True)"
      ]
    },
    {
      "cell_type": "code",
      "execution_count": 15,
      "metadata": {
        "colab": {
          "base_uri": "https://localhost:8080/",
          "height": 452
        },
        "id": "3LAqxMDiO0hu",
        "outputId": "cb286246-bc3e-41c1-debc-c15e84911818"
      },
      "outputs": [
        {
          "data": {
            "image/png": "[encoded data removed]",
            "text/plain": [
              "<Figure size 640x480 with 1 Axes>"
            ]
          },
          "metadata": {},
          "output_type": "display_data"
        }
      ],
      "source": [
        "# graphical eda for 'age'\n",
        "\n",
        "df['age'].plot(kind='hist', bins=20, title='age')\n",
        "plt.gca().spines[['top', 'right',]].set_visible(False)"
      ]
    },
    {
      "cell_type": "code",
      "execution_count": 16,
      "metadata": {
        "colab": {
          "base_uri": "https://localhost:8080/",
          "height": 411
        },
        "id": "gS6Y0R3JLOcR",
        "outputId": "99e1d634-d60b-457d-b8df-fc3e2f5fa7c6"
      },
      "outputs": [
        {
          "data": {
            "image/png": "[encoded data removed]",
            "text/plain": [
              "<Figure size 640x480 with 1 Axes>"
            ]
          },
          "metadata": {},
          "output_type": "display_data"
        }
      ],
      "source": [
        "# outlier analysis using a box plot\n",
        "\n",
        "sns.boxplot(df['age'])\n",
        "plt.show()"
      ]
    },
    {
      "cell_type": "code",
      "execution_count": 17,
      "metadata": {
        "id": "hJ0iKA6hHq4Y"
      },
      "outputs": [],
      "source": [
        "# imputing missing values in the 'age' column with its mode\n",
        "# since the dataset is skewed towards younger ages\n",
        "\n",
        "mode_value = df['age'].mode()[0]\n",
        "df['age'].fillna(mode_value, inplace=True)"
      ]
    },
    {
      "cell_type": "code",
      "execution_count": 18,
      "metadata": {
        "colab": {
          "base_uri": "https://localhost:8080/"
        },
        "id": "wtbF_n_nKjoa",
        "outputId": "3898ecbf-e3af-42cc-9dc5-c0217c141bb0"
      },
      "outputs": [
        {
          "name": "stdout",
          "output_type": "stream",
          "text": [
            "        age sex  nationality current_status\n",
            "1677   98.0   F        Korea       isolated\n",
            "2748  104.0   F        Korea       isolated\n",
            "3085   97.0   F        Korea       isolated\n",
            "3089   97.0   F        Korea       isolated\n",
            "3674   96.0   F       Korean      Recovered\n",
            "5884  102.0   F  Singaporean    In hospital\n"
          ]
        }
      ],
      "source": [
        "# outlier analysis\n",
        "\n",
        "z = np.abs(stats.zscore(df['age']))\n",
        "outliers = df[(z > 2.8)]\n",
        "\n",
        "print(outliers)"
      ]
    },
    {
      "cell_type": "code",
      "execution_count": 19,
      "metadata": {
        "colab": {
          "base_uri": "https://localhost:8080/",
          "height": 544
        },
        "id": "udMSKIsYPBJO",
        "outputId": "bcd7d7ba-090c-4764-cb35-8066a5a8d7a1"
      },
      "outputs": [
        {
          "data": {
            "image/png": "[encoded data removed]",
            "text/plain": [
              "<Figure size 640x480 with 1 Axes>"
            ]
          },
          "metadata": {},
          "output_type": "display_data"
        }
      ],
      "source": [
        "# graphical eda for 'current_status'\n",
        "\n",
        "df['current_status'].value_counts().plot(kind='bar', title='current_status')\n",
        "plt.gca().spines[['top', 'right']].set_visible(False)\n",
        "plt.show()"
      ]
    },
    {
      "cell_type": "code",
      "execution_count": 20,
      "metadata": {
        "colab": {
          "base_uri": "https://localhost:8080/"
        },
        "id": "nHO97vQS9V84",
        "outputId": "f81091fd-22da-4a71-82fb-5198170a3c17"
      },
      "outputs": [
        {
          "name": "stdout",
          "output_type": "stream",
          "text": [
            "['Recovered' 'Died' 'Admitted' 'Quarantined' 'Dead' 'released' 'isolated'\n",
            " 'deceased' 'Deceased' 'In hospital']\n"
          ]
        }
      ],
      "source": [
        "# analyzing the 'current_status' column\n",
        "\n",
        "print(df['current_status'].unique())"
      ]
    },
    {
      "cell_type": "code",
      "execution_count": 21,
      "metadata": {
        "id": "McPFGeDBAGlj"
      },
      "outputs": [],
      "source": [
        "status_mapping = {\n",
        "    'Recovered': 'Alive',\n",
        "    'released': 'Alive',\n",
        "    'Died' : 'Deceased',\n",
        "    'Dead': 'Deceased',\n",
        "    'deceased': 'Deceased',\n",
        "    'Deceased': 'Deceased',\n",
        "    'Admitted': 'Alive',\n",
        "    'isolated': 'Alive',\n",
        "    'Quarantined': 'Alive',\n",
        "    'In hospital': 'Alive'\n",
        "}"
      ]
    },
    {
      "cell_type": "code",
      "execution_count": 22,
      "metadata": {
        "id": "Tpajr9vmAmCb"
      },
      "outputs": [],
      "source": [
        "# merging multiple columns because of data value conflicts\n",
        "\n",
        "df['current_status'] = df['current_status'].replace(status_mapping)"
      ]
    },
    {
      "cell_type": "code",
      "execution_count": 23,
      "metadata": {
        "colab": {
          "base_uri": "https://localhost:8080/",
          "height": 526
        },
        "id": "p3aqXGmeAmyd",
        "outputId": "6f1c2123-b7eb-40f0-85df-556daf5d7a13"
      },
      "outputs": [
        {
          "data": {
            "image/png": "[encoded data removed]",
            "text/plain": [
              "<Figure size 640x480 with 1 Axes>"
            ]
          },
          "metadata": {},
          "output_type": "display_data"
        }
      ],
      "source": [
        "# graphical eda for 'current_status' after processing\n",
        "\n",
        "df['current_status'].value_counts().plot(kind='bar', title='current_status')\n",
        "plt.gca().spines[['top', 'right']].set_visible(False)\n",
        "plt.show()"
      ]
    },
    {
      "cell_type": "code",
      "execution_count": 24,
      "metadata": {
        "colab": {
          "base_uri": "https://localhost:8080/",
          "height": 206
        },
        "id": "ylPKN-ChN-f0",
        "outputId": "58beb621-a5b9-4fc1-aab8-f2f1319becd3"
      },
      "outputs": [
        {
          "data": {
            "text/html": [
              "<div>\n",
              "<style scoped>\n",
              "    .dataframe tbody tr th:only-of-type {\n",
              "        vertical-align: middle;\n",
              "    }\n",
              "\n",
              "    .dataframe tbody tr th {\n",
              "        vertical-align: top;\n",
              "    }\n",
              "\n",
              "    .dataframe thead th {\n",
              "        text-align: right;\n",
              "    }\n",
              "</style>\n",
              "<table border=\"1\" class=\"dataframe\">\n",
              "  <thead>\n",
              "    <tr style=\"text-align: right;\">\n",
              "      <th></th>\n",
              "      <th>age</th>\n",
              "      <th>sex</th>\n",
              "      <th>nationality</th>\n",
              "      <th>current_status</th>\n",
              "    </tr>\n",
              "  </thead>\n",
              "  <tbody>\n",
              "    <tr>\n",
              "      <th>0</th>\n",
              "      <td>38.0</td>\n",
              "      <td>F</td>\n",
              "      <td>Chinese</td>\n",
              "      <td>Alive</td>\n",
              "    </tr>\n",
              "    <tr>\n",
              "      <th>1</th>\n",
              "      <td>44.0</td>\n",
              "      <td>M</td>\n",
              "      <td>Chinese</td>\n",
              "      <td>Deceased</td>\n",
              "    </tr>\n",
              "    <tr>\n",
              "      <th>2</th>\n",
              "      <td>60.0</td>\n",
              "      <td>F</td>\n",
              "      <td>Chinese</td>\n",
              "      <td>Alive</td>\n",
              "    </tr>\n",
              "    <tr>\n",
              "      <th>3</th>\n",
              "      <td>48.0</td>\n",
              "      <td>M</td>\n",
              "      <td>Filipino</td>\n",
              "      <td>Alive</td>\n",
              "    </tr>\n",
              "    <tr>\n",
              "      <th>4</th>\n",
              "      <td>62.0</td>\n",
              "      <td>M</td>\n",
              "      <td>Filipino</td>\n",
              "      <td>Deceased</td>\n",
              "    </tr>\n",
              "  </tbody>\n",
              "</table>\n",
              "</div>"
            ],
            "text/plain": [
              "    age sex nationality current_status\n",
              "0  38.0   F     Chinese          Alive\n",
              "1  44.0   M     Chinese       Deceased\n",
              "2  60.0   F     Chinese          Alive\n",
              "3  48.0   M    Filipino          Alive\n",
              "4  62.0   M    Filipino       Deceased"
            ]
          },
          "execution_count": 24,
          "metadata": {},
          "output_type": "execute_result"
        }
      ],
      "source": [
        "# analyzing the preprocessed dataset\n",
        "\n",
        "df.head()"
      ]
    },
    {
      "cell_type": "code",
      "execution_count": 25,
      "metadata": {
        "colab": {
          "base_uri": "https://localhost:8080/",
          "height": 210
        },
        "id": "OQlMgnND8ECv",
        "outputId": "78dc5389-a947-454b-9d1d-25a69b739c37"
      },
      "outputs": [
        {
          "data": {
            "text/plain": [
              "age               0\n",
              "sex               0\n",
              "nationality       0\n",
              "current_status    0\n",
              "dtype: int64"
            ]
          },
          "execution_count": 25,
          "metadata": {},
          "output_type": "execute_result"
        }
      ],
      "source": [
        "df.isnull().sum()"
      ]
    },
    {
      "cell_type": "code",
      "execution_count": 26,
      "metadata": {
        "id": "7kwDQqZaAqWn"
      },
      "outputs": [],
      "source": [
        "# label encoding 'sex', 'nationality' and 'current_status' columns\n",
        "\n",
        "label_encoders = {}\n",
        "\n",
        "for column in [\"sex\", \"nationality\", \"current_status\"]:\n",
        "    le = LabelEncoder()\n",
        "    df[column] = le.fit_transform(df[column])\n",
        "    label_encoders[column] = le"
      ]
    },
    {
      "cell_type": "code",
      "execution_count": 27,
      "metadata": {
        "id": "B47CPpgmN7MY"
      },
      "outputs": [],
      "source": [
        "scaler = StandardScaler()\n",
        "\n",
        "df['age'] = scaler.fit_transform(df[['age']])"
      ]
    },
    {
      "cell_type": "code",
      "execution_count": 28,
      "metadata": {
        "colab": {
          "base_uri": "https://localhost:8080/",
          "height": 206
        },
        "id": "SxSr1q4VLnBu",
        "outputId": "0671386c-6e63-4df2-97e6-777699c7affa"
      },
      "outputs": [
        {
          "data": {
            "text/html": [
              "<div>\n",
              "<style scoped>\n",
              "    .dataframe tbody tr th:only-of-type {\n",
              "        vertical-align: middle;\n",
              "    }\n",
              "\n",
              "    .dataframe tbody tr th {\n",
              "        vertical-align: top;\n",
              "    }\n",
              "\n",
              "    .dataframe thead th {\n",
              "        text-align: right;\n",
              "    }\n",
              "</style>\n",
              "<table border=\"1\" class=\"dataframe\">\n",
              "  <thead>\n",
              "    <tr style=\"text-align: right;\">\n",
              "      <th></th>\n",
              "      <th>age</th>\n",
              "      <th>sex</th>\n",
              "      <th>nationality</th>\n",
              "      <th>current_status</th>\n",
              "    </tr>\n",
              "  </thead>\n",
              "  <tbody>\n",
              "    <tr>\n",
              "      <th>0</th>\n",
              "      <td>-0.140413</td>\n",
              "      <td>0</td>\n",
              "      <td>10</td>\n",
              "      <td>0</td>\n",
              "    </tr>\n",
              "    <tr>\n",
              "      <th>1</th>\n",
              "      <td>0.167584</td>\n",
              "      <td>1</td>\n",
              "      <td>10</td>\n",
              "      <td>1</td>\n",
              "    </tr>\n",
              "    <tr>\n",
              "      <th>2</th>\n",
              "      <td>0.988908</td>\n",
              "      <td>0</td>\n",
              "      <td>10</td>\n",
              "      <td>0</td>\n",
              "    </tr>\n",
              "    <tr>\n",
              "      <th>3</th>\n",
              "      <td>0.372915</td>\n",
              "      <td>1</td>\n",
              "      <td>15</td>\n",
              "      <td>0</td>\n",
              "    </tr>\n",
              "    <tr>\n",
              "      <th>4</th>\n",
              "      <td>1.091574</td>\n",
              "      <td>1</td>\n",
              "      <td>15</td>\n",
              "      <td>1</td>\n",
              "    </tr>\n",
              "  </tbody>\n",
              "</table>\n",
              "</div>"
            ],
            "text/plain": [
              "        age  sex  nationality  current_status\n",
              "0 -0.140413    0           10               0\n",
              "1  0.167584    1           10               1\n",
              "2  0.988908    0           10               0\n",
              "3  0.372915    1           15               0\n",
              "4  1.091574    1           15               1"
            ]
          },
          "execution_count": 28,
          "metadata": {},
          "output_type": "execute_result"
        }
      ],
      "source": [
        "df.head()"
      ]
    },
    {
      "cell_type": "code",
      "execution_count": 30,
      "metadata": {},
      "outputs": [],
      "source": [
        "# oversampling the data\n",
        "\n",
        "X = df.drop('current_status', axis=1)\n",
        "y = df['current_status']"
      ]
    },
    {
      "cell_type": "code",
      "execution_count": 31,
      "metadata": {},
      "outputs": [],
      "source": [
        "smote = SMOTE(random_state = 42)\n",
        "X_resampled, y_resampled = smote.fit_resample(X, y)"
      ]
    },
    {
      "cell_type": "code",
      "execution_count": 32,
      "metadata": {},
      "outputs": [],
      "source": [
        "df_resampled = pd.DataFrame(X_resampled, columns=X.columns)\n",
        "df_resampled['current_status'] = y_resampled"
      ]
    },
    {
      "cell_type": "code",
      "execution_count": 33,
      "metadata": {},
      "outputs": [],
      "source": [
        "df_resampled.to_csv('resampled_data.csv', index=False)"
      ]
    }
  ],
  "metadata": {
    "colab": {
      "provenance": []
    },
    "kernelspec": {
      "display_name": "Python 3 (ipykernel)",
      "language": "python",
      "name": "python3"
    },
    "language_info": {
      "codemirror_mode": {
        "name": "ipython",
        "version": 3
      },
      "file_extension": ".py",
      "mimetype": "text/x-python",
      "name": "python",
      "nbconvert_exporter": "python",
      "pygments_lexer": "ipython3",
      "version": "3.12.5"
    }
  },
  "nbformat": 4,
  "nbformat_minor": 0
}
