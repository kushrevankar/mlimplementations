{
 "cells": [
  {
   "cell_type": "code",
   "metadata": {
    "jupyter": {
     "is_executing": true
    }
   },
   "source": [
    "import pandas as pd\n",
    "from sklearn.tree import DecisionTreeClassifier\n",
    "from sklearn.model_selection import StratifiedKFold\n",
    "from sklearn.metrics import accuracy_score, classification_report"
   ],
   "outputs": [],
   "execution_count": null
  },
  {
   "cell_type": "code",
   "metadata": {
    "ExecuteTime": {
     "end_time": "2025-04-05T19:13:43.752127Z",
     "start_time": "2025-04-05T19:13:43.735819Z"
    }
   },
   "source": [
    "df = pd.read_csv(r'D:\\Work\\Programs\\MachineLearning\\resampled_data.csv')"
   ],
   "outputs": [],
   "execution_count": 2
  },
  {
   "cell_type": "code",
   "metadata": {
    "ExecuteTime": {
     "end_time": "2025-04-05T19:13:48.884348Z",
     "start_time": "2025-04-05T19:13:48.876272Z"
    }
   },
   "source": [
    "X = df.drop('current_status', axis = 1)\n",
    "y = df['current_status']"
   ],
   "outputs": [],
   "execution_count": 3
  },
  {
   "cell_type": "code",
   "metadata": {
    "ExecuteTime": {
     "end_time": "2025-04-05T19:13:50.245902Z",
     "start_time": "2025-04-05T19:13:50.243122Z"
    }
   },
   "source": [
    "skf = StratifiedKFold(n_splits = 10)"
   ],
   "outputs": [],
   "execution_count": 4
  },
  {
   "cell_type": "code",
   "metadata": {
    "ExecuteTime": {
     "end_time": "2025-04-05T19:13:51.751420Z",
     "start_time": "2025-04-05T19:13:51.625057Z"
    }
   },
   "source": [
    "dtclf = DecisionTreeClassifier(random_state = 42)\n",
    "for fold, (train_index, test_index) in enumerate(skf.split(X, y)):\n",
    "    X_train, X_test = X.iloc[train_index], X.iloc[test_index]\n",
    "    y_train, y_test = y.iloc[train_index], y.iloc[test_index]\n",
    "\n",
    "    dtclf.fit(X_train, y_train)\n",
    "    y_pred = dtclf.predict(X_test)\n",
    "\n",
    "    accuracy = accuracy_score(y_test, y_pred)\n",
    "    print(f\"Fold {fold + 1} Accuracy: {accuracy:.2f}\")"
   ],
   "outputs": [
    {
     "name": "stdout",
     "output_type": "stream",
     "text": [
      "Fold 1 Accuracy: 0.83\n",
      "Fold 2 Accuracy: 0.96\n",
      "Fold 3 Accuracy: 0.95\n",
      "Fold 4 Accuracy: 0.95\n",
      "Fold 5 Accuracy: 0.94\n",
      "Fold 6 Accuracy: 0.94\n",
      "Fold 7 Accuracy: 0.96\n",
      "Fold 8 Accuracy: 0.96\n",
      "Fold 9 Accuracy: 0.96\n",
      "Fold 10 Accuracy: 0.95\n"
     ]
    }
   ],
   "execution_count": 5
  },
  {
   "cell_type": "code",
   "metadata": {
    "ExecuteTime": {
     "end_time": "2025-04-05T19:13:52.154705Z",
     "start_time": "2025-04-05T19:13:52.146095Z"
    }
   },
   "source": [
    "report = classification_report(y_test, y_pred)\n",
    "print(report)"
   ],
   "outputs": [
    {
     "name": "stdout",
     "output_type": "stream",
     "text": [
      "              precision    recall  f1-score   support\n",
      "\n",
      "           0       0.91      0.98      0.95       579\n",
      "           1       0.98      0.91      0.94       580\n",
      "\n",
      "    accuracy                           0.95      1159\n",
      "   macro avg       0.95      0.95      0.95      1159\n",
      "weighted avg       0.95      0.95      0.95      1159\n",
      "\n"
     ]
    }
   ],
   "execution_count": 6
  },
  {
   "metadata": {
    "ExecuteTime": {
     "end_time": "2025-04-05T19:13:52.611476Z",
     "start_time": "2025-04-05T19:13:52.608107Z"
    }
   },
   "cell_type": "code",
   "source": "",
   "outputs": [],
   "execution_count": null
  }
 ],
 "metadata": {
  "kernelspec": {
   "display_name": "Python 3 (ipykernel)",
   "language": "python",
   "name": "python3"
  },
  "language_info": {
   "codemirror_mode": {
    "name": "ipython",
    "version": 3
   },
   "file_extension": ".py",
   "mimetype": "text/x-python",
   "name": "python",
   "nbconvert_exporter": "python",
   "pygments_lexer": "ipython3",
   "version": "3.12.5"
  }
 },
 "nbformat": 4,
 "nbformat_minor": 2
}
